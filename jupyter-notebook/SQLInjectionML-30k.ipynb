{
 "cells": [
  {
   "cell_type": "markdown",
   "id": "ed697856",
   "metadata": {},
   "source": [
    "# SQL Injection Detection using Machine Learning"
   ]
  },
  {
   "cell_type": "code",
   "execution_count": 1,
   "id": "4d3ee147",
   "metadata": {},
   "outputs": [
    {
     "name": "stdout",
     "output_type": "stream",
     "text": [
      "Requirement already satisfied: seaborn in c:\\users\\snehal\\anaconda3\\envs\\sqlinjectionmlproject1\\lib\\site-packages (0.12.2)\n",
      "Requirement already satisfied: pandas>=0.25 in c:\\users\\snehal\\anaconda3\\envs\\sqlinjectionmlproject1\\lib\\site-packages (from seaborn) (1.5.3)\n",
      "Requirement already satisfied: numpy!=1.24.0,>=1.17 in c:\\users\\snehal\\anaconda3\\envs\\sqlinjectionmlproject1\\lib\\site-packages (from seaborn) (1.24.2)\n",
      "Requirement already satisfied: matplotlib!=3.6.1,>=3.1 in c:\\users\\snehal\\anaconda3\\envs\\sqlinjectionmlproject1\\lib\\site-packages (from seaborn) (3.7.0)\n",
      "Requirement already satisfied: pyparsing>=2.3.1 in c:\\users\\snehal\\anaconda3\\envs\\sqlinjectionmlproject1\\lib\\site-packages (from matplotlib!=3.6.1,>=3.1->seaborn) (3.0.9)\n",
      "Requirement already satisfied: cycler>=0.10 in c:\\users\\snehal\\anaconda3\\envs\\sqlinjectionmlproject1\\lib\\site-packages (from matplotlib!=3.6.1,>=3.1->seaborn) (0.11.0)\n",
      "Requirement already satisfied: pillow>=6.2.0 in c:\\users\\snehal\\anaconda3\\envs\\sqlinjectionmlproject1\\lib\\site-packages (from matplotlib!=3.6.1,>=3.1->seaborn) (9.4.0)\n",
      "Requirement already satisfied: importlib-resources>=3.2.0 in c:\\users\\snehal\\anaconda3\\envs\\sqlinjectionmlproject1\\lib\\site-packages (from matplotlib!=3.6.1,>=3.1->seaborn) (5.12.0)\n",
      "Requirement already satisfied: kiwisolver>=1.0.1 in c:\\users\\snehal\\anaconda3\\envs\\sqlinjectionmlproject1\\lib\\site-packages (from matplotlib!=3.6.1,>=3.1->seaborn) (1.4.4)\n",
      "Requirement already satisfied: fonttools>=4.22.0 in c:\\users\\snehal\\anaconda3\\envs\\sqlinjectionmlproject1\\lib\\site-packages (from matplotlib!=3.6.1,>=3.1->seaborn) (4.38.0)\n",
      "Requirement already satisfied: contourpy>=1.0.1 in c:\\users\\snehal\\anaconda3\\envs\\sqlinjectionmlproject1\\lib\\site-packages (from matplotlib!=3.6.1,>=3.1->seaborn) (1.0.7)\n",
      "Requirement already satisfied: packaging>=20.0 in c:\\users\\snehal\\anaconda3\\envs\\sqlinjectionmlproject1\\lib\\site-packages (from matplotlib!=3.6.1,>=3.1->seaborn) (23.0)\n",
      "Requirement already satisfied: python-dateutil>=2.7 in c:\\users\\snehal\\anaconda3\\envs\\sqlinjectionmlproject1\\lib\\site-packages (from matplotlib!=3.6.1,>=3.1->seaborn) (2.8.2)\n",
      "Requirement already satisfied: pytz>=2020.1 in c:\\users\\snehal\\anaconda3\\envs\\sqlinjectionmlproject1\\lib\\site-packages (from pandas>=0.25->seaborn) (2022.7.1)\n",
      "Requirement already satisfied: zipp>=3.1.0 in c:\\users\\snehal\\anaconda3\\envs\\sqlinjectionmlproject1\\lib\\site-packages (from importlib-resources>=3.2.0->matplotlib!=3.6.1,>=3.1->seaborn) (3.14.0)\n",
      "Requirement already satisfied: six>=1.5 in c:\\users\\snehal\\anaconda3\\envs\\sqlinjectionmlproject1\\lib\\site-packages (from python-dateutil>=2.7->matplotlib!=3.6.1,>=3.1->seaborn) (1.16.0)\n",
      "Note: you may need to restart the kernel to use updated packages.\n",
      "Requirement already satisfied: nltk in c:\\users\\snehal\\anaconda3\\envs\\sqlinjectionmlproject1\\lib\\site-packages (3.8.1)\n",
      "Requirement already satisfied: regex>=2021.8.3 in c:\\users\\snehal\\anaconda3\\envs\\sqlinjectionmlproject1\\lib\\site-packages (from nltk) (2022.10.31)\n",
      "Requirement already satisfied: click in c:\\users\\snehal\\anaconda3\\envs\\sqlinjectionmlproject1\\lib\\site-packages (from nltk) (8.1.3)\n",
      "Requirement already satisfied: joblib in c:\\users\\snehal\\anaconda3\\envs\\sqlinjectionmlproject1\\lib\\site-packages (from nltk) (1.2.0)\n",
      "Requirement already satisfied: tqdm in c:\\users\\snehal\\anaconda3\\envs\\sqlinjectionmlproject1\\lib\\site-packages (from nltk) (4.64.1)\n",
      "Requirement already satisfied: colorama in c:\\users\\snehal\\anaconda3\\envs\\sqlinjectionmlproject1\\lib\\site-packages (from click->nltk) (0.4.6)\n",
      "Note: you may need to restart the kernel to use updated packages.\n",
      "Requirement already satisfied: xgboost in c:\\users\\snehal\\anaconda3\\envs\\sqlinjectionmlproject1\\lib\\site-packages (1.7.4)\n",
      "Requirement already satisfied: scipy in c:\\users\\snehal\\anaconda3\\envs\\sqlinjectionmlproject1\\lib\\site-packages (from xgboost) (1.10.1)\n",
      "Requirement already satisfied: numpy in c:\\users\\snehal\\anaconda3\\envs\\sqlinjectionmlproject1\\lib\\site-packages (from xgboost) (1.24.2)\n",
      "Note: you may need to restart the kernel to use updated packages.\n"
     ]
    }
   ],
   "source": [
    "%pip install seaborn\n",
    "%pip install nltk\n",
    "%pip install xgboost"
   ]
  },
  {
   "cell_type": "code",
   "execution_count": 2,
   "id": "5efe320b",
   "metadata": {},
   "outputs": [],
   "source": [
    "# importing required libraries\n",
    "import numpy as np \n",
    "import pandas as pd \n",
    "import seaborn as sns\n",
    "import matplotlib.pyplot as plt\n",
    "from sklearn.feature_extraction.text import CountVectorizer, TfidfVectorizer\n",
    "from sklearn.model_selection import train_test_split\n",
    "from sklearn.model_selection import cross_val_score, KFold\n",
    "from nltk.corpus import stopwords\n",
    "from sklearn.metrics import accuracy_score, f1_score\n",
    "from sklearn.linear_model import LogisticRegression\n",
    "from sklearn.ensemble import RandomForestClassifier\n",
    "from sklearn.ensemble import ExtraTreesClassifier\n",
    "from xgboost import XGBClassifier\n",
    "from sklearn.svm import SVC\n",
    "from sklearn.naive_bayes import GaussianNB\n",
    "from sklearn.metrics import classification_report\n",
    "from sklearn.metrics import ConfusionMatrixDisplay, confusion_matrix"
   ]
  },
  {
   "cell_type": "markdown",
   "id": "dbd0a612",
   "metadata": {},
   "source": [
    "## Reading sql data file "
   ]
  },
  {
   "cell_type": "code",
   "execution_count": 3,
   "id": "ca9bc54e",
   "metadata": {},
   "outputs": [
    {
     "data": {
      "text/html": [
       "<div>\n",
       "<style scoped>\n",
       "    .dataframe tbody tr th:only-of-type {\n",
       "        vertical-align: middle;\n",
       "    }\n",
       "\n",
       "    .dataframe tbody tr th {\n",
       "        vertical-align: top;\n",
       "    }\n",
       "\n",
       "    .dataframe thead th {\n",
       "        text-align: right;\n",
       "    }\n",
       "</style>\n",
       "<table border=\"1\" class=\"dataframe\">\n",
       "  <thead>\n",
       "    <tr style=\"text-align: right;\">\n",
       "      <th></th>\n",
       "      <th>Sentence</th>\n",
       "      <th>Label</th>\n",
       "      <th>Unnamed: 2</th>\n",
       "      <th>Unnamed: 3</th>\n",
       "    </tr>\n",
       "  </thead>\n",
       "  <tbody>\n",
       "    <tr>\n",
       "      <th>0</th>\n",
       "      <td>\" or pg_sleep  (  __TIME__  )  --\"</td>\n",
       "      <td>1</td>\n",
       "      <td>NaN</td>\n",
       "      <td>NaN</td>\n",
       "    </tr>\n",
       "    <tr>\n",
       "      <th>1</th>\n",
       "      <td>create user name identified by pass123 tempora...</td>\n",
       "      <td>1</td>\n",
       "      <td>NaN</td>\n",
       "      <td>NaN</td>\n",
       "    </tr>\n",
       "    <tr>\n",
       "      <th>2</th>\n",
       "      <td>AND 1  =  utl_inaddr.get_host_address   (    ...</td>\n",
       "      <td>1</td>\n",
       "      <td>NaN</td>\n",
       "      <td>NaN</td>\n",
       "    </tr>\n",
       "    <tr>\n",
       "      <th>3</th>\n",
       "      <td>select * from users where id  =  '1' or @ @1 ...</td>\n",
       "      <td>1</td>\n",
       "      <td>NaN</td>\n",
       "      <td>NaN</td>\n",
       "    </tr>\n",
       "    <tr>\n",
       "      <th>4</th>\n",
       "      <td>select * from users where id  =  1 or 1#\"  ( ...</td>\n",
       "      <td>1</td>\n",
       "      <td>NaN</td>\n",
       "      <td>NaN</td>\n",
       "    </tr>\n",
       "    <tr>\n",
       "      <th>5</th>\n",
       "      <td>select name from syscolumns where id   =     ...</td>\n",
       "      <td>1</td>\n",
       "      <td>NaN</td>\n",
       "      <td>NaN</td>\n",
       "    </tr>\n",
       "    <tr>\n",
       "      <th>6</th>\n",
       "      <td>select * from users where id  =  1 +$+ or 1  =...</td>\n",
       "      <td>1</td>\n",
       "      <td>NaN</td>\n",
       "      <td>NaN</td>\n",
       "    </tr>\n",
       "    <tr>\n",
       "      <th>7</th>\n",
       "      <td>1;  (  load_file  (  char  (  47,101,116,99,47...</td>\n",
       "      <td>1</td>\n",
       "      <td>NaN</td>\n",
       "      <td>NaN</td>\n",
       "    </tr>\n",
       "    <tr>\n",
       "      <th>8</th>\n",
       "      <td>select * from users where id  =  '1' or ||/1 ...</td>\n",
       "      <td>1</td>\n",
       "      <td>NaN</td>\n",
       "      <td>NaN</td>\n",
       "    </tr>\n",
       "    <tr>\n",
       "      <th>9</th>\n",
       "      <td>select * from users where id  =  '1' or \\.&lt;\\ ...</td>\n",
       "      <td>1</td>\n",
       "      <td>NaN</td>\n",
       "      <td>NaN</td>\n",
       "    </tr>\n",
       "  </tbody>\n",
       "</table>\n",
       "</div>"
      ],
      "text/plain": [
       "                                            Sentence Label  Unnamed: 2  \\\n",
       "0                 \" or pg_sleep  (  __TIME__  )  --\"     1         NaN   \n",
       "1  create user name identified by pass123 tempora...     1         NaN   \n",
       "2   AND 1  =  utl_inaddr.get_host_address   (    ...     1         NaN   \n",
       "3   select * from users where id  =  '1' or @ @1 ...     1         NaN   \n",
       "4   select * from users where id  =  1 or 1#\"  ( ...     1         NaN   \n",
       "5   select name from syscolumns where id   =     ...     1         NaN   \n",
       "6  select * from users where id  =  1 +$+ or 1  =...     1         NaN   \n",
       "7  1;  (  load_file  (  char  (  47,101,116,99,47...     1         NaN   \n",
       "8   select * from users where id  =  '1' or ||/1 ...     1         NaN   \n",
       "9   select * from users where id  =  '1' or \\.<\\ ...     1         NaN   \n",
       "\n",
       "   Unnamed: 3  \n",
       "0         NaN  \n",
       "1         NaN  \n",
       "2         NaN  \n",
       "3         NaN  \n",
       "4         NaN  \n",
       "5         NaN  \n",
       "6         NaN  \n",
       "7         NaN  \n",
       "8         NaN  \n",
       "9         NaN  "
      ]
     },
     "execution_count": 3,
     "metadata": {},
     "output_type": "execute_result"
    }
   ],
   "source": [
    "#df = pd.read_csv(r'C:\\Users\\Dell\\Desktop\\SQLInjectionML\\dataset\\sqlCleaned.csv', encoding = 'utf-16') # Read the dataset.\n",
    "df = pd.read_csv(r'C:\\Users\\snehal\\PycharmProjects\\SQLInjectionMLProject\\dataset\\sql_30k.csv') # Read the dataset.\n",
    "df.head(10)"
   ]
  },
  {
   "cell_type": "markdown",
   "id": "69e6a30d",
   "metadata": {},
   "source": [
    "## Shape of Dataframe"
   ]
  },
  {
   "cell_type": "code",
   "execution_count": 4,
   "id": "7a8cd4c0",
   "metadata": {},
   "outputs": [
    {
     "data": {
      "text/plain": [
       "(30909, 4)"
      ]
     },
     "execution_count": 4,
     "metadata": {},
     "output_type": "execute_result"
    }
   ],
   "source": [
    "df.shape"
   ]
  },
  {
   "cell_type": "code",
   "execution_count": 5,
   "id": "146e82a0",
   "metadata": {},
   "outputs": [],
   "source": [
    "df.drop([\"Unnamed: 2\",\"Unnamed: 3\"], axis=1, inplace=True)"
   ]
  },
  {
   "cell_type": "code",
   "execution_count": 6,
   "id": "78654e79",
   "metadata": {},
   "outputs": [
    {
     "data": {
      "text/html": [
       "<div>\n",
       "<style scoped>\n",
       "    .dataframe tbody tr th:only-of-type {\n",
       "        vertical-align: middle;\n",
       "    }\n",
       "\n",
       "    .dataframe tbody tr th {\n",
       "        vertical-align: top;\n",
       "    }\n",
       "\n",
       "    .dataframe thead th {\n",
       "        text-align: right;\n",
       "    }\n",
       "</style>\n",
       "<table border=\"1\" class=\"dataframe\">\n",
       "  <thead>\n",
       "    <tr style=\"text-align: right;\">\n",
       "      <th></th>\n",
       "      <th>Sentence</th>\n",
       "      <th>Label</th>\n",
       "    </tr>\n",
       "  </thead>\n",
       "  <tbody>\n",
       "    <tr>\n",
       "      <th>0</th>\n",
       "      <td>\" or pg_sleep  (  __TIME__  )  --\"</td>\n",
       "      <td>1</td>\n",
       "    </tr>\n",
       "    <tr>\n",
       "      <th>1</th>\n",
       "      <td>create user name identified by pass123 tempora...</td>\n",
       "      <td>1</td>\n",
       "    </tr>\n",
       "    <tr>\n",
       "      <th>2</th>\n",
       "      <td>AND 1  =  utl_inaddr.get_host_address   (    ...</td>\n",
       "      <td>1</td>\n",
       "    </tr>\n",
       "    <tr>\n",
       "      <th>3</th>\n",
       "      <td>select * from users where id  =  '1' or @ @1 ...</td>\n",
       "      <td>1</td>\n",
       "    </tr>\n",
       "    <tr>\n",
       "      <th>4</th>\n",
       "      <td>select * from users where id  =  1 or 1#\"  ( ...</td>\n",
       "      <td>1</td>\n",
       "    </tr>\n",
       "    <tr>\n",
       "      <th>...</th>\n",
       "      <td>...</td>\n",
       "      <td>...</td>\n",
       "    </tr>\n",
       "    <tr>\n",
       "      <th>30904</th>\n",
       "      <td>DELETE FROM door WHERE grow = 'small'</td>\n",
       "      <td>0</td>\n",
       "    </tr>\n",
       "    <tr>\n",
       "      <th>30905</th>\n",
       "      <td>DELETE FROM tomorrow</td>\n",
       "      <td>0</td>\n",
       "    </tr>\n",
       "    <tr>\n",
       "      <th>30906</th>\n",
       "      <td>SELECT wide ( s )  FROM west</td>\n",
       "      <td>0</td>\n",
       "    </tr>\n",
       "    <tr>\n",
       "      <th>30907</th>\n",
       "      <td>SELECT * FROM  ( SELECT slide FROM breath )</td>\n",
       "      <td>0</td>\n",
       "    </tr>\n",
       "    <tr>\n",
       "      <th>30908</th>\n",
       "      <td>SELECT TOP 3 * FROM race</td>\n",
       "      <td>0</td>\n",
       "    </tr>\n",
       "  </tbody>\n",
       "</table>\n",
       "<p>30909 rows × 2 columns</p>\n",
       "</div>"
      ],
      "text/plain": [
       "                                                Sentence Label\n",
       "0                     \" or pg_sleep  (  __TIME__  )  --\"     1\n",
       "1      create user name identified by pass123 tempora...     1\n",
       "2       AND 1  =  utl_inaddr.get_host_address   (    ...     1\n",
       "3       select * from users where id  =  '1' or @ @1 ...     1\n",
       "4       select * from users where id  =  1 or 1#\"  ( ...     1\n",
       "...                                                  ...   ...\n",
       "30904              DELETE FROM door WHERE grow = 'small'     0\n",
       "30905                               DELETE FROM tomorrow     0\n",
       "30906                       SELECT wide ( s )  FROM west     0\n",
       "30907       SELECT * FROM  ( SELECT slide FROM breath )      0\n",
       "30908                           SELECT TOP 3 * FROM race     0\n",
       "\n",
       "[30909 rows x 2 columns]"
      ]
     },
     "execution_count": 6,
     "metadata": {},
     "output_type": "execute_result"
    }
   ],
   "source": [
    "df"
   ]
  },
  {
   "cell_type": "markdown",
   "id": "f564688b",
   "metadata": {},
   "source": [
    "## Dataframe column information "
   ]
  },
  {
   "cell_type": "code",
   "execution_count": 7,
   "id": "3cb7639f",
   "metadata": {},
   "outputs": [
    {
     "name": "stdout",
     "output_type": "stream",
     "text": [
      "<class 'pandas.core.frame.DataFrame'>\n",
      "RangeIndex: 30909 entries, 0 to 30908\n",
      "Data columns (total 2 columns):\n",
      " #   Column    Non-Null Count  Dtype \n",
      "---  ------    --------------  ----- \n",
      " 0   Sentence  30897 non-null  object\n",
      " 1   Label     30909 non-null  object\n",
      "dtypes: object(2)\n",
      "memory usage: 483.1+ KB\n"
     ]
    }
   ],
   "source": [
    "df.info()"
   ]
  },
  {
   "cell_type": "markdown",
   "id": "dad3b006",
   "metadata": {},
   "source": [
    "## Describe Dataframe "
   ]
  },
  {
   "cell_type": "code",
   "execution_count": 8,
   "id": "ca048a40",
   "metadata": {},
   "outputs": [
    {
     "data": {
      "text/html": [
       "<div>\n",
       "<style scoped>\n",
       "    .dataframe tbody tr th:only-of-type {\n",
       "        vertical-align: middle;\n",
       "    }\n",
       "\n",
       "    .dataframe tbody tr th {\n",
       "        vertical-align: top;\n",
       "    }\n",
       "\n",
       "    .dataframe thead th {\n",
       "        text-align: right;\n",
       "    }\n",
       "</style>\n",
       "<table border=\"1\" class=\"dataframe\">\n",
       "  <thead>\n",
       "    <tr style=\"text-align: right;\">\n",
       "      <th></th>\n",
       "      <th>Sentence</th>\n",
       "      <th>Label</th>\n",
       "    </tr>\n",
       "  </thead>\n",
       "  <tbody>\n",
       "    <tr>\n",
       "      <th>count</th>\n",
       "      <td>30897</td>\n",
       "      <td>30909</td>\n",
       "    </tr>\n",
       "    <tr>\n",
       "      <th>unique</th>\n",
       "      <td>30869</td>\n",
       "      <td>14</td>\n",
       "    </tr>\n",
       "    <tr>\n",
       "      <th>top</th>\n",
       "      <td>#NAME?</td>\n",
       "      <td>0</td>\n",
       "    </tr>\n",
       "    <tr>\n",
       "      <th>freq</th>\n",
       "      <td>8</td>\n",
       "      <td>19537</td>\n",
       "    </tr>\n",
       "  </tbody>\n",
       "</table>\n",
       "</div>"
      ],
      "text/plain": [
       "       Sentence  Label\n",
       "count     30897  30909\n",
       "unique    30869     14\n",
       "top      #NAME?      0\n",
       "freq          8  19537"
      ]
     },
     "execution_count": 8,
     "metadata": {},
     "output_type": "execute_result"
    }
   ],
   "source": [
    "df.describe(include=\"all\")"
   ]
  },
  {
   "cell_type": "markdown",
   "id": "7a3b0f93",
   "metadata": {},
   "source": [
    "## Describe Label column "
   ]
  },
  {
   "cell_type": "code",
   "execution_count": 9,
   "id": "756d1923",
   "metadata": {},
   "outputs": [
    {
     "data": {
      "text/plain": [
       "count     30909\n",
       "unique       14\n",
       "top           0\n",
       "freq      19537\n",
       "Name: Label, dtype: object"
      ]
     },
     "execution_count": 9,
     "metadata": {},
     "output_type": "execute_result"
    }
   ],
   "source": [
    "df['Label'].describe()"
   ]
  },
  {
   "cell_type": "markdown",
   "id": "bdf1a30f",
   "metadata": {},
   "source": [
    "## Check null values "
   ]
  },
  {
   "cell_type": "code",
   "execution_count": 10,
   "id": "dd8799ee",
   "metadata": {},
   "outputs": [
    {
     "data": {
      "text/plain": [
       "Sentence    12\n",
       "Label        0\n",
       "dtype: int64"
      ]
     },
     "execution_count": 10,
     "metadata": {},
     "output_type": "execute_result"
    }
   ],
   "source": [
    "df.isna().sum()"
   ]
  },
  {
   "cell_type": "markdown",
   "id": "1084a054",
   "metadata": {},
   "source": [
    "## Drop null values "
   ]
  },
  {
   "cell_type": "code",
   "execution_count": 11,
   "id": "0438f46f",
   "metadata": {},
   "outputs": [],
   "source": [
    "df.dropna(inplace=True)"
   ]
  },
  {
   "cell_type": "markdown",
   "id": "423cbc68",
   "metadata": {},
   "source": [
    "## Check null values after dropping null values "
   ]
  },
  {
   "cell_type": "code",
   "execution_count": 12,
   "id": "331b992b",
   "metadata": {},
   "outputs": [
    {
     "data": {
      "text/plain": [
       "Sentence    0\n",
       "Label       0\n",
       "dtype: int64"
      ]
     },
     "execution_count": 12,
     "metadata": {},
     "output_type": "execute_result"
    }
   ],
   "source": [
    "df.isna().sum()"
   ]
  },
  {
   "cell_type": "markdown",
   "id": "3b79de5d",
   "metadata": {},
   "source": [
    "##  Count values where Label is 1 "
   ]
  },
  {
   "cell_type": "code",
   "execution_count": 13,
   "id": "adcd876e",
   "metadata": {},
   "outputs": [
    {
     "data": {
      "text/plain": [
       "Sentence    0\n",
       "Label       0\n",
       "dtype: int64"
      ]
     },
     "execution_count": 13,
     "metadata": {},
     "output_type": "execute_result"
    }
   ],
   "source": [
    "df[df['Label'] == 1].count() # Count how much label are 1."
   ]
  },
  {
   "cell_type": "markdown",
   "id": "430c4c28",
   "metadata": {},
   "source": [
    "##  Count values where Label is 0"
   ]
  },
  {
   "cell_type": "code",
   "execution_count": 14,
   "id": "cb1f6a29",
   "metadata": {},
   "outputs": [
    {
     "data": {
      "text/plain": [
       "Sentence    0\n",
       "Label       0\n",
       "dtype: int64"
      ]
     },
     "execution_count": 14,
     "metadata": {},
     "output_type": "execute_result"
    }
   ],
   "source": [
    "df[df['Label'] == 0].count() # Count how much label are 0."
   ]
  },
  {
   "cell_type": "markdown",
   "id": "a38e1f2e",
   "metadata": {},
   "source": [
    "## Label value counts"
   ]
  },
  {
   "cell_type": "code",
   "execution_count": 15,
   "id": "44f9418d",
   "metadata": {},
   "outputs": [
    {
     "data": {
      "text/plain": [
       "0    19537\n",
       "1    11360\n",
       "Name: Label, dtype: int64"
      ]
     },
     "execution_count": 15,
     "metadata": {},
     "output_type": "execute_result"
    }
   ],
   "source": [
    "df['Label'].value_counts()"
   ]
  },
  {
   "cell_type": "code",
   "execution_count": 16,
   "id": "eb6f4a8b",
   "metadata": {},
   "outputs": [],
   "source": [
    "df['Label'] = df['Label'].apply(pd.to_numeric,errors='ignore')"
   ]
  },
  {
   "cell_type": "code",
   "execution_count": 17,
   "id": "f4016def",
   "metadata": {},
   "outputs": [
    {
     "data": {
      "text/plain": [
       "0    19537\n",
       "1    11360\n",
       "Name: Label, dtype: int64"
      ]
     },
     "execution_count": 17,
     "metadata": {},
     "output_type": "execute_result"
    }
   ],
   "source": [
    "df['Label'].value_counts()"
   ]
  },
  {
   "cell_type": "markdown",
   "id": "bf2f682d",
   "metadata": {},
   "source": [
    "## Plot label counts "
   ]
  },
  {
   "cell_type": "code",
   "execution_count": 18,
   "id": "109365ce",
   "metadata": {},
   "outputs": [
    {
     "data": {
      "image/png": "[encoded data removed]",
      "text/plain": [
       "<Figure size 1200x400 with 2 Axes>"
      ]
     },
     "metadata": {},
     "output_type": "display_data"
    }
   ],
   "source": [
    "f,ax=plt.subplots(1,2,figsize=(12,4))\n",
    "df['Label'].value_counts().plot.pie(explode=[0,0.1],autopct='%1.1f%%',ax=ax[0],shadow=True)\n",
    "\n",
    "\n",
    "ax[0].set_title('Label')\n",
    "ax[0].set_ylabel('')\n",
    "sns.countplot(x=df[\"Label\"],ax=ax[1])\n",
    "ax[1].set_title('Label')\n",
    "plt.show()"
   ]
  },
  {
   "cell_type": "markdown",
   "id": "1cae4070",
   "metadata": {},
   "source": [
    "# Approach 1. Count Vectorizer"
   ]
  },
  {
   "cell_type": "markdown",
   "id": "7d414be0",
   "metadata": {},
   "source": [
    "##  CountVectorizer - Convert a collection of text documents to a matrix of token counts"
   ]
  },
  {
   "cell_type": "code",
   "execution_count": 19,
   "id": "78952df6",
   "metadata": {},
   "outputs": [
    {
     "name": "stderr",
     "output_type": "stream",
     "text": [
      "[nltk_data] Downloading package stopwords to\n",
      "[nltk_data]     C:\\Users\\snehal\\AppData\\Roaming\\nltk_data...\n",
      "[nltk_data]   Package stopwords is already up-to-date!\n"
     ]
    },
    {
     "data": {
      "text/plain": [
       "True"
      ]
     },
     "execution_count": 19,
     "metadata": {},
     "output_type": "execute_result"
    }
   ],
   "source": [
    "import nltk\n",
    "nltk.download('stopwords')"
   ]
  },
  {
   "cell_type": "code",
   "execution_count": 20,
   "id": "aea0b561",
   "metadata": {},
   "outputs": [
    {
     "data": {
      "text/plain": [
       "array([[0, 0, 0, ..., 0, 0, 0],\n",
       "       [0, 0, 0, ..., 0, 0, 0],\n",
       "       [0, 0, 0, ..., 0, 0, 0],\n",
       "       ...,\n",
       "       [0, 0, 0, ..., 0, 0, 0],\n",
       "       [0, 0, 0, ..., 0, 0, 0],\n",
       "       [0, 0, 0, ..., 0, 0, 0]], dtype=int64)"
      ]
     },
     "execution_count": 20,
     "metadata": {},
     "output_type": "execute_result"
    }
   ],
   "source": [
    "X = df['Sentence']\n",
    "y = df['Label']\n",
    "# CountVectorizer - Convert a collection of text documents to a matrix of token counts\n",
    "count_vectorizer = CountVectorizer(min_df = 2, max_df = 0.8, stop_words = stopwords.words('english'))\n",
    "X = count_vectorizer.fit_transform(X.values.astype('U')).toarray()\n",
    "X"
   ]
  },
  {
   "cell_type": "code",
   "execution_count": 21,
   "id": "91a1a361",
   "metadata": {},
   "outputs": [
    {
     "name": "stderr",
     "output_type": "stream",
     "text": [
      "C:\\Users\\snehal\\anaconda3\\envs\\SQLInjectionMLProject1\\lib\\site-packages\\sklearn\\utils\\deprecation.py:87: FutureWarning: Function get_feature_names is deprecated; get_feature_names is deprecated in 1.0 and will be removed in 1.2. Please use get_feature_names_out instead.\n",
      "  warnings.warn(msg, category=FutureWarning)\n"
     ]
    },
    {
     "data": {
      "text/plain": [
       "['00',\n",
       " '000001',\n",
       " '000003',\n",
       " '000004',\n",
       " '000023',\n",
       " '01',\n",
       " '015',\n",
       " '03',\n",
       " '06',\n",
       " '07',\n",
       " '08',\n",
       " '09',\n",
       " '0x28',\n",
       " '0x2e',\n",
       " '0x4b774c75',\n",
       " '0x4c4d6142',\n",
       " '0x52515a50',\n",
       " '0x544d5a4c',\n",
       " '0x5c',\n",
       " '0x694a4745',\n",
       " '0x6d457153',\n",
       " '0x7171706a71',\n",
       " '0x717a767a71',\n",
       " '0x72747341',\n",
       " '0x730065006c00650063007400200040004000760065007200730069006f006e00',\n",
       " '0x73656c65637420404076657273696f6e',\n",
       " '0x76555642',\n",
       " '0x77616974666f722064656c61792027303a303a31302700',\n",
       " '0x78',\n",
       " '10',\n",
       " '100',\n",
       " '1000',\n",
       " '10000000',\n",
       " '1001',\n",
       " '1002',\n",
       " '1004',\n",
       " '1005',\n",
       " '1007',\n",
       " '101',\n",
       " '1013',\n",
       " '1015',\n",
       " '102',\n",
       " '1020',\n",
       " '1022',\n",
       " '103',\n",
       " '1030',\n",
       " '1031',\n",
       " '1032',\n",
       " '1036',\n",
       " '104',\n",
       " '1040',\n",
       " '1043',\n",
       " '1044',\n",
       " '1045',\n",
       " '1047',\n",
       " '1048',\n",
       " '105',\n",
       " '1050',\n",
       " '1051',\n",
       " '1052',\n",
       " '1055',\n",
       " '1056',\n",
       " '106',\n",
       " '1064',\n",
       " '107',\n",
       " '1071',\n",
       " '1074',\n",
       " '1076',\n",
       " '1079',\n",
       " '108',\n",
       " '1082',\n",
       " '1083',\n",
       " '1084',\n",
       " '1085',\n",
       " '1087',\n",
       " '109',\n",
       " '1090',\n",
       " '1091',\n",
       " '1093',\n",
       " '1096',\n",
       " '10a',\n",
       " '10d',\n",
       " '10f',\n",
       " '10h',\n",
       " '11',\n",
       " '110',\n",
       " '1100',\n",
       " '1102',\n",
       " '1105',\n",
       " '1107',\n",
       " '111',\n",
       " '1115',\n",
       " '1117',\n",
       " '112',\n",
       " '1120',\n",
       " '1123',\n",
       " '1127',\n",
       " '113',\n",
       " '1132',\n",
       " '1133',\n",
       " '1134',\n",
       " '1139',\n",
       " '114',\n",
       " '1144',\n",
       " '11451',\n",
       " '1148',\n",
       " '115',\n",
       " '11514',\n",
       " '1153',\n",
       " '1157',\n",
       " '116',\n",
       " '1161',\n",
       " '1162',\n",
       " '1164',\n",
       " '1166',\n",
       " '1167',\n",
       " '117',\n",
       " '1171',\n",
       " '1172',\n",
       " '118',\n",
       " '1181',\n",
       " '1182',\n",
       " '1183',\n",
       " '1185',\n",
       " '1186',\n",
       " '119',\n",
       " '1193',\n",
       " '1196',\n",
       " '1199',\n",
       " '11d',\n",
       " '11g',\n",
       " '11h',\n",
       " '11horas',\n",
       " '12',\n",
       " '120',\n",
       " '1202',\n",
       " '1203',\n",
       " '121',\n",
       " '1210',\n",
       " '1212',\n",
       " '1217',\n",
       " '1219',\n",
       " '122',\n",
       " '1222',\n",
       " '1224',\n",
       " '1226',\n",
       " '1227',\n",
       " '1229',\n",
       " '123',\n",
       " '1230',\n",
       " '1233',\n",
       " '1234',\n",
       " '1236',\n",
       " '1237',\n",
       " '1238',\n",
       " '124',\n",
       " '1244',\n",
       " '1246',\n",
       " '1248',\n",
       " '1249',\n",
       " '125',\n",
       " '1252',\n",
       " '1254',\n",
       " '1255',\n",
       " '1256',\n",
       " '126',\n",
       " '1263',\n",
       " '1266',\n",
       " '1267',\n",
       " '1269',\n",
       " '127',\n",
       " '1270',\n",
       " '1272',\n",
       " '1275',\n",
       " '1276',\n",
       " '1277',\n",
       " '128',\n",
       " '1280',\n",
       " '1287',\n",
       " '1293',\n",
       " '1297',\n",
       " '13',\n",
       " '130',\n",
       " '1300',\n",
       " '1302',\n",
       " '1303',\n",
       " '1305',\n",
       " '131',\n",
       " '1317',\n",
       " '132',\n",
       " '1321',\n",
       " '1323',\n",
       " '1327',\n",
       " '1333',\n",
       " '1335',\n",
       " '1339',\n",
       " '134',\n",
       " '1343',\n",
       " '1345',\n",
       " '135',\n",
       " '1354',\n",
       " '136',\n",
       " '1363',\n",
       " '1366',\n",
       " '1367',\n",
       " '1368',\n",
       " '137',\n",
       " '1378',\n",
       " '138',\n",
       " '1386',\n",
       " '1389',\n",
       " '139',\n",
       " '1390',\n",
       " '1392',\n",
       " '1393',\n",
       " '1396',\n",
       " '13e',\n",
       " '14',\n",
       " '140',\n",
       " '1402',\n",
       " '1407',\n",
       " '1408',\n",
       " '141',\n",
       " '1412',\n",
       " '1414',\n",
       " '1418',\n",
       " '142',\n",
       " '1424',\n",
       " '1426',\n",
       " '143',\n",
       " '1432',\n",
       " '1434',\n",
       " '1436',\n",
       " '1437',\n",
       " '1438',\n",
       " '1439',\n",
       " '144',\n",
       " '1440',\n",
       " '1441',\n",
       " '1452',\n",
       " '146',\n",
       " '1468',\n",
       " '147',\n",
       " '1470',\n",
       " '1471',\n",
       " '1475',\n",
       " '1476',\n",
       " '1479',\n",
       " '148',\n",
       " '1481',\n",
       " '1482',\n",
       " '1483',\n",
       " '1485',\n",
       " '1487',\n",
       " '149',\n",
       " '1490',\n",
       " '1492',\n",
       " '1494',\n",
       " '1499',\n",
       " '14horas',\n",
       " '15',\n",
       " '150',\n",
       " '1501',\n",
       " '1503',\n",
       " '151',\n",
       " '1510',\n",
       " '1512',\n",
       " '1513',\n",
       " '1519',\n",
       " '152',\n",
       " '1525',\n",
       " '1526',\n",
       " '153',\n",
       " '1536',\n",
       " '154',\n",
       " '1541',\n",
       " '1543',\n",
       " '1545',\n",
       " '1547',\n",
       " '1549',\n",
       " '155',\n",
       " '1550',\n",
       " '1557',\n",
       " '1558',\n",
       " '1559',\n",
       " '156',\n",
       " '1568',\n",
       " '157',\n",
       " '1570',\n",
       " '1573',\n",
       " '1577',\n",
       " '158',\n",
       " '1589',\n",
       " '1591',\n",
       " '1593',\n",
       " '1594',\n",
       " '1596',\n",
       " '1597',\n",
       " '1598',\n",
       " '16',\n",
       " '160',\n",
       " '1600',\n",
       " '1601',\n",
       " '1602',\n",
       " '1603',\n",
       " '1606',\n",
       " '1609',\n",
       " '161',\n",
       " '1616',\n",
       " '1618',\n",
       " '162',\n",
       " '1623',\n",
       " '1624',\n",
       " '1628',\n",
       " '1631',\n",
       " '1632',\n",
       " '1634',\n",
       " '1636',\n",
       " '1637',\n",
       " '1639',\n",
       " '164',\n",
       " '1640',\n",
       " '1641',\n",
       " '1642',\n",
       " '1643',\n",
       " '1644',\n",
       " '1646',\n",
       " '1647',\n",
       " '1648',\n",
       " '165',\n",
       " '1650',\n",
       " '1651',\n",
       " '1656',\n",
       " '166',\n",
       " '1661',\n",
       " '1668',\n",
       " '167',\n",
       " '1670',\n",
       " '1673',\n",
       " '1675',\n",
       " '1679',\n",
       " '168',\n",
       " '1685',\n",
       " '1687',\n",
       " '1689',\n",
       " '169',\n",
       " '1690',\n",
       " '1692',\n",
       " '17',\n",
       " '170',\n",
       " '1700',\n",
       " '1705',\n",
       " '1707',\n",
       " '171',\n",
       " '1710',\n",
       " '1711',\n",
       " '1712',\n",
       " '1714',\n",
       " '1718',\n",
       " '172',\n",
       " '1720',\n",
       " '1729',\n",
       " '173',\n",
       " '1730',\n",
       " '1738',\n",
       " '174',\n",
       " '1743',\n",
       " '1746',\n",
       " '1748',\n",
       " '175',\n",
       " '1750',\n",
       " '1752',\n",
       " '1755',\n",
       " '1759',\n",
       " '1763',\n",
       " '1764',\n",
       " '1765',\n",
       " '1766',\n",
       " '177',\n",
       " '1770',\n",
       " '1772',\n",
       " '1776',\n",
       " '178',\n",
       " '1781',\n",
       " '1789',\n",
       " '179',\n",
       " '1794',\n",
       " '1796',\n",
       " '18',\n",
       " '180',\n",
       " '1802',\n",
       " '1806',\n",
       " '1807',\n",
       " '1808',\n",
       " '1809',\n",
       " '181',\n",
       " '1816',\n",
       " '182',\n",
       " '1821',\n",
       " '1823',\n",
       " '1826',\n",
       " '183',\n",
       " '1836',\n",
       " '1839',\n",
       " '184',\n",
       " '1844',\n",
       " '185',\n",
       " '1859',\n",
       " '186',\n",
       " '1860000000000000',\n",
       " '1863',\n",
       " '1864',\n",
       " '1866',\n",
       " '1867',\n",
       " '1868',\n",
       " '187',\n",
       " '1874',\n",
       " '1876',\n",
       " '188',\n",
       " '1886',\n",
       " '1887',\n",
       " '1889',\n",
       " '189',\n",
       " '1891',\n",
       " '1893',\n",
       " '1894',\n",
       " '1895',\n",
       " '1898',\n",
       " '18e',\n",
       " '19',\n",
       " '190',\n",
       " '1908',\n",
       " '191',\n",
       " '1910',\n",
       " '1915',\n",
       " '1917',\n",
       " '192',\n",
       " '1920',\n",
       " '1924',\n",
       " '1928',\n",
       " '1929',\n",
       " '193',\n",
       " '1931',\n",
       " '1932',\n",
       " '1936',\n",
       " '1939',\n",
       " '194',\n",
       " '1940',\n",
       " '1940000000000000',\n",
       " '1942',\n",
       " '1943',\n",
       " '1947',\n",
       " '1949',\n",
       " '195',\n",
       " '196',\n",
       " '1961',\n",
       " '1962',\n",
       " '1968',\n",
       " '197',\n",
       " '1971',\n",
       " '1975',\n",
       " '1976',\n",
       " '1977',\n",
       " '198',\n",
       " '1980',\n",
       " '1983',\n",
       " '1985',\n",
       " '1988',\n",
       " '1989',\n",
       " '199',\n",
       " '1990',\n",
       " '1992',\n",
       " '1993',\n",
       " '1996',\n",
       " '1996boat',\n",
       " '1996came',\n",
       " '1996damage',\n",
       " '1996flies',\n",
       " '1996kind',\n",
       " '1996love',\n",
       " '1996manner',\n",
       " '1996meat',\n",
       " '1996party',\n",
       " '1996window',\n",
       " '1998',\n",
       " '1999',\n",
       " '19horas',\n",
       " '1_',\n",
       " '1a',\n",
       " '1e',\n",
       " '1f',\n",
       " '20',\n",
       " '200',\n",
       " '2006',\n",
       " '2007',\n",
       " '2008',\n",
       " '2012',\n",
       " '2013',\n",
       " '2016',\n",
       " '2017',\n",
       " '201703',\n",
       " '2021',\n",
       " '2025',\n",
       " '2027',\n",
       " '2028',\n",
       " '2031',\n",
       " '2039',\n",
       " '2044',\n",
       " '2046',\n",
       " '2048',\n",
       " '2049',\n",
       " '2050',\n",
       " '2051',\n",
       " '2055',\n",
       " '2056',\n",
       " '2067',\n",
       " '2068',\n",
       " '2071',\n",
       " '2072',\n",
       " '2077',\n",
       " '2081',\n",
       " '2086',\n",
       " '2090',\n",
       " '2095',\n",
       " '21',\n",
       " '2100',\n",
       " '2106',\n",
       " '2110',\n",
       " '2111',\n",
       " '2112',\n",
       " '2113',\n",
       " '2114',\n",
       " '2118',\n",
       " '2120',\n",
       " '2129',\n",
       " '2130',\n",
       " '2131',\n",
       " '2132',\n",
       " '2136',\n",
       " '2140',\n",
       " '2141',\n",
       " '2144',\n",
       " '2145',\n",
       " '2149',\n",
       " '2158',\n",
       " '2160',\n",
       " '2161',\n",
       " '2163',\n",
       " '2165',\n",
       " '2168',\n",
       " '2169',\n",
       " '2171',\n",
       " '2174',\n",
       " '2175',\n",
       " '2178',\n",
       " '2179',\n",
       " '2190',\n",
       " '2193',\n",
       " '2197',\n",
       " '22',\n",
       " '2204',\n",
       " '2207',\n",
       " '2211',\n",
       " '2214',\n",
       " '2216',\n",
       " '2223',\n",
       " '2225',\n",
       " '2230',\n",
       " '2236',\n",
       " '2238',\n",
       " '2241',\n",
       " '2246',\n",
       " '2255',\n",
       " '2256',\n",
       " '2260',\n",
       " '2263',\n",
       " '2266',\n",
       " '2271',\n",
       " '2278',\n",
       " '228217',\n",
       " '2284',\n",
       " '2285',\n",
       " '2287',\n",
       " '2291',\n",
       " '2298',\n",
       " '23',\n",
       " '2300',\n",
       " '2301',\n",
       " '2303',\n",
       " '2305',\n",
       " '2306',\n",
       " '2307',\n",
       " '2308',\n",
       " '2309',\n",
       " '2312',\n",
       " '2314',\n",
       " '2316',\n",
       " '2317',\n",
       " '2321',\n",
       " '2323',\n",
       " '2325',\n",
       " '2329',\n",
       " '2331',\n",
       " '2332',\n",
       " '2335',\n",
       " '2340',\n",
       " '2341',\n",
       " '2346',\n",
       " '2352',\n",
       " '2364',\n",
       " '2365',\n",
       " '2366',\n",
       " '2367',\n",
       " '2373',\n",
       " '2377',\n",
       " '2382',\n",
       " '2384',\n",
       " '2388',\n",
       " '2391',\n",
       " '239189',\n",
       " '239190',\n",
       " '2394',\n",
       " '24',\n",
       " '2401',\n",
       " '2402',\n",
       " '2405',\n",
       " '2411',\n",
       " '2417',\n",
       " '2421',\n",
       " '2425',\n",
       " '2427',\n",
       " '2430',\n",
       " '2432',\n",
       " '2434',\n",
       " '2443',\n",
       " '2445',\n",
       " '2446',\n",
       " '2448',\n",
       " '2452',\n",
       " '2455',\n",
       " '2457',\n",
       " '2459',\n",
       " '2468',\n",
       " '2473',\n",
       " '2477',\n",
       " '2483',\n",
       " '2489',\n",
       " '2495',\n",
       " '2498',\n",
       " '25',\n",
       " '250500',\n",
       " '2511',\n",
       " '2512',\n",
       " '2513',\n",
       " '2517',\n",
       " '2518',\n",
       " '2519',\n",
       " '2527',\n",
       " '2528',\n",
       " '2539',\n",
       " '2542',\n",
       " '2543',\n",
       " '2545',\n",
       " '2547',\n",
       " '255',\n",
       " '2555',\n",
       " '2564',\n",
       " '2567',\n",
       " '2568',\n",
       " '2569',\n",
       " '2570',\n",
       " '2571',\n",
       " '2572',\n",
       " '2573',\n",
       " '2576',\n",
       " '2583',\n",
       " '2590',\n",
       " '2593',\n",
       " '2597',\n",
       " '26',\n",
       " '2602',\n",
       " '2603',\n",
       " '2605',\n",
       " '2607',\n",
       " '2609',\n",
       " '2610',\n",
       " '2615',\n",
       " '2618',\n",
       " '2619',\n",
       " '2620',\n",
       " '2621',\n",
       " '262310',\n",
       " '262311',\n",
       " '262312',\n",
       " '262315',\n",
       " '262317',\n",
       " '262326',\n",
       " '262327',\n",
       " '262328',\n",
       " '262329',\n",
       " '262330',\n",
       " '262331',\n",
       " '262334',\n",
       " '262335',\n",
       " '2625',\n",
       " '2633',\n",
       " '2634',\n",
       " '2636',\n",
       " '2637',\n",
       " '2639',\n",
       " '2643',\n",
       " '2648',\n",
       " '2649',\n",
       " '2651',\n",
       " '2656',\n",
       " '2657',\n",
       " '2658',\n",
       " '2671',\n",
       " '2672',\n",
       " '2673',\n",
       " '2676',\n",
       " '2678',\n",
       " '2679',\n",
       " '2680',\n",
       " '2681',\n",
       " '2687',\n",
       " '2689',\n",
       " '27',\n",
       " '2704',\n",
       " '2710',\n",
       " '2712',\n",
       " '2715',\n",
       " '2716',\n",
       " '2717',\n",
       " '2718',\n",
       " '2719',\n",
       " '2720',\n",
       " '2721',\n",
       " '2724',\n",
       " '2725',\n",
       " '2726',\n",
       " '2728',\n",
       " '2730',\n",
       " '2733',\n",
       " '2734',\n",
       " '2741',\n",
       " '2745',\n",
       " '2748',\n",
       " '2749',\n",
       " '2751',\n",
       " '2759',\n",
       " '2760',\n",
       " '2763',\n",
       " '2766',\n",
       " '2767',\n",
       " '2768',\n",
       " '2774',\n",
       " '2781',\n",
       " '2782',\n",
       " '2783',\n",
       " '2784',\n",
       " '2787',\n",
       " '2788',\n",
       " '2790',\n",
       " '2793',\n",
       " '27990',\n",
       " '28',\n",
       " '2803',\n",
       " '28072',\n",
       " '28074',\n",
       " '2808',\n",
       " '28080',\n",
       " '2813',\n",
       " '2815',\n",
       " '2817',\n",
       " '2820',\n",
       " '2821',\n",
       " '2823',\n",
       " '2827',\n",
       " '2829',\n",
       " '28313',\n",
       " '2834',\n",
       " '28341',\n",
       " '2838',\n",
       " '2840',\n",
       " '28446',\n",
       " '28450',\n",
       " '2849',\n",
       " '2850',\n",
       " '2852',\n",
       " '2853',\n",
       " '2855',\n",
       " '28557',\n",
       " '28561',\n",
       " '28565',\n",
       " '2857',\n",
       " '28587',\n",
       " '28591',\n",
       " '28614',\n",
       " '28618',\n",
       " '28620',\n",
       " '28621',\n",
       " '28633',\n",
       " '28635',\n",
       " '28636',\n",
       " '28638',\n",
       " '2865',\n",
       " '2866',\n",
       " '2869',\n",
       " '28691',\n",
       " '28694',\n",
       " '28696',\n",
       " '28699',\n",
       " '287',\n",
       " '28705',\n",
       " '28707',\n",
       " '28710',\n",
       " '2872',\n",
       " '28728',\n",
       " '2873',\n",
       " '28731',\n",
       " '28733',\n",
       " '2874',\n",
       " '2886',\n",
       " '2887',\n",
       " '2891',\n",
       " '2898',\n",
       " '2899',\n",
       " '289969',\n",
       " '29',\n",
       " '290065',\n",
       " '2901',\n",
       " '2903',\n",
       " '2905',\n",
       " '2908',\n",
       " '290914',\n",
       " '291072',\n",
       " '2912',\n",
       " '2914',\n",
       " '2917',\n",
       " '2918',\n",
       " '2919',\n",
       " '2920',\n",
       " '2922',\n",
       " '292419',\n",
       " '292420',\n",
       " '2925',\n",
       " '2928',\n",
       " '2929',\n",
       " '2930',\n",
       " '2937',\n",
       " '2938',\n",
       " '2948',\n",
       " '2951',\n",
       " '2952',\n",
       " '2953',\n",
       " '2958',\n",
       " '2964',\n",
       " '2967',\n",
       " '2971',\n",
       " '2972',\n",
       " '2976',\n",
       " '2977',\n",
       " '2982',\n",
       " '2985',\n",
       " '2987',\n",
       " '2989',\n",
       " '2992',\n",
       " '2993',\n",
       " '299801',\n",
       " '299804',\n",
       " '299806',\n",
       " '299807',\n",
       " '299808',\n",
       " '2a',\n",
       " '2b',\n",
       " '30',\n",
       " '300',\n",
       " '3003',\n",
       " '3007',\n",
       " '3009',\n",
       " '3013',\n",
       " '3020',\n",
       " '3021',\n",
       " '30220',\n",
       " '3023',\n",
       " '3025',\n",
       " '3026',\n",
       " '3028',\n",
       " '3030',\n",
       " '3031',\n",
       " '30322',\n",
       " '3036',\n",
       " '3037',\n",
       " '3038',\n",
       " '30380',\n",
       " '30384',\n",
       " '30387',\n",
       " '30390',\n",
       " '3044',\n",
       " '3051',\n",
       " '3058',\n",
       " '3059',\n",
       " '3062',\n",
       " '3069',\n",
       " '3072',\n",
       " '3074',\n",
       " '3076',\n",
       " '3078',\n",
       " '3081',\n",
       " '3082',\n",
       " '3083',\n",
       " '3084',\n",
       " '3086',\n",
       " '3088',\n",
       " '3090',\n",
       " '3092',\n",
       " '31',\n",
       " '3102',\n",
       " '3105',\n",
       " '3107',\n",
       " '3112',\n",
       " '3114',\n",
       " '3116',\n",
       " '3118',\n",
       " '3125',\n",
       " '3126',\n",
       " '3130',\n",
       " '3138',\n",
       " '3140',\n",
       " '3141',\n",
       " '3143',\n",
       " '3145',\n",
       " '3146',\n",
       " '3151',\n",
       " '3168',\n",
       " '3169',\n",
       " '3171',\n",
       " '3172',\n",
       " '3175',\n",
       " '3176',\n",
       " '3177',\n",
       " '3180',\n",
       " '3181',\n",
       " '3185',\n",
       " '3187',\n",
       " '3194',\n",
       " '32',\n",
       " '3201',\n",
       " '3202',\n",
       " '320706',\n",
       " '3209',\n",
       " '3211',\n",
       " '3215',\n",
       " '3217',\n",
       " '3226',\n",
       " '3227',\n",
       " '3228',\n",
       " '3230',\n",
       " '3234',\n",
       " '3245',\n",
       " '3247',\n",
       " '3249',\n",
       " '3250',\n",
       " '3262',\n",
       " '3266',\n",
       " '3270',\n",
       " '3271',\n",
       " '3274',\n",
       " '3277',\n",
       " '3278',\n",
       " '3286',\n",
       " '3288',\n",
       " '3291',\n",
       " '3297',\n",
       " '33',\n",
       " '3300',\n",
       " '3301',\n",
       " '3313',\n",
       " '3315',\n",
       " '3316',\n",
       " '3318',\n",
       " '3321',\n",
       " '3323',\n",
       " '3326',\n",
       " '3330',\n",
       " '3332',\n",
       " '3334',\n",
       " '3337',\n",
       " '3339',\n",
       " '3343',\n",
       " '3347',\n",
       " '3348',\n",
       " '3349',\n",
       " '3354',\n",
       " '3359',\n",
       " '3360',\n",
       " '3361',\n",
       " '3362',\n",
       " '3364',\n",
       " ...]"
      ]
     },
     "execution_count": 21,
     "metadata": {},
     "output_type": "execute_result"
    }
   ],
   "source": [
    "count_vectorizer.get_feature_names()"
   ]
  },
  {
   "cell_type": "markdown",
   "id": "7341020f",
   "metadata": {},
   "source": [
    "### Train-test split "
   ]
  },
  {
   "cell_type": "code",
   "execution_count": 22,
   "id": "458d5e2f",
   "metadata": {},
   "outputs": [
    {
     "name": "stdout",
     "output_type": "stream",
     "text": [
      "X_train.shape -  (24717, 6578)\n",
      "y_train.shape - (24717,)\n",
      "X_test.shape - (6180, 6578)\n",
      "y_test.shape - (6180,)\n"
     ]
    }
   ],
   "source": [
    "X_train, X_test, y_train, y_test = train_test_split(X, y, test_size = 0.2)\n",
    "print(\"X_train.shape - \",X_train.shape)\n",
    "print(\"y_train.shape -\", y_train.shape)\n",
    "print(\"X_test.shape -\", X_test.shape)\n",
    "print(\"y_test.shape -\", y_test.shape)"
   ]
  },
  {
   "cell_type": "code",
   "execution_count": 23,
   "id": "36394134",
   "metadata": {},
   "outputs": [
    {
     "data": {
      "text/plain": [
       "array([0, 0, 0, ..., 0, 0, 0], dtype=int64)"
      ]
     },
     "execution_count": 23,
     "metadata": {},
     "output_type": "execute_result"
    }
   ],
   "source": [
    "X_test[0]"
   ]
  },
  {
   "cell_type": "markdown",
   "id": "35f56153",
   "metadata": {},
   "source": [
    "### Test Validation Split "
   ]
  },
  {
   "cell_type": "code",
   "execution_count": 24,
   "id": "cd672602",
   "metadata": {},
   "outputs": [
    {
     "name": "stdout",
     "output_type": "stream",
     "text": [
      "X_val.shape -  (2472, 6578)\n",
      "y_val.shape - (2472,)\n",
      "X_test.shape - (3708, 6578)\n",
      "y_test.shape - (3708,)\n"
     ]
    }
   ],
   "source": [
    "X_test, X_val, y_test, y_val = train_test_split(X_test, y_test, test_size = 0.4)\n",
    "print(\"X_val.shape - \",X_val.shape)\n",
    "print(\"y_val.shape -\", y_val.shape)\n",
    "print(\"X_test.shape -\", X_test.shape)\n",
    "print(\"y_test.shape -\", y_test.shape)"
   ]
  },
  {
   "cell_type": "markdown",
   "id": "9ec7b935",
   "metadata": {},
   "source": [
    "## RandomForestClassifier "
   ]
  },
  {
   "cell_type": "code",
   "execution_count": 25,
   "id": "d850a810",
   "metadata": {},
   "outputs": [
    {
     "name": "stdout",
     "output_type": "stream",
     "text": [
      "Accuracy of Random Forest on test set : 0.9350053937432579\n",
      "F1 Score of Random Forest on test set : 0.9098391320613542\n"
     ]
    }
   ],
   "source": [
    "# create RandomForestClassifier model instance\n",
    "rf_clf = RandomForestClassifier()\n",
    "# fit RandomForestClassifier model\n",
    "rf_clf.fit(X_train, y_train)\n",
    "# make predictions\n",
    "y_pred = rf_clf.predict(X_test)\n",
    "print(f\"Accuracy of Random Forest on test set : {accuracy_score(y_pred, y_test)}\")\n",
    "print(f\"F1 Score of Random Forest on test set : {f1_score(y_pred, y_test)}\")"
   ]
  },
  {
   "cell_type": "code",
   "execution_count": 26,
   "id": "dc49dd32",
   "metadata": {},
   "outputs": [
    {
     "name": "stdout",
     "output_type": "stream",
     "text": [
      "K-fold CV average score for RandomForestClassifier: 0.93\n"
     ]
    }
   ],
   "source": [
    "# K Fold cross validation \n",
    "kfold = KFold(n_splits=5, shuffle=True)\n",
    "kf_cv_scores = cross_val_score(rf_clf, X_train, y_train, cv=kfold )\n",
    "print(\"K-fold CV average score for RandomForestClassifier: %.2f\" % kf_cv_scores.mean())"
   ]
  },
  {
   "cell_type": "markdown",
   "id": "ee21a016",
   "metadata": {},
   "source": [
    "### Classification Report of RandomForestClassifier"
   ]
  },
  {
   "cell_type": "code",
   "execution_count": 27,
   "id": "988b15f5",
   "metadata": {},
   "outputs": [
    {
     "name": "stdout",
     "output_type": "stream",
     "text": [
      "              precision    recall  f1-score   support\n",
      "\n",
      "           0       0.94      0.96      0.95      2353\n",
      "           1       0.92      0.90      0.91      1355\n",
      "\n",
      "    accuracy                           0.94      3708\n",
      "   macro avg       0.93      0.93      0.93      3708\n",
      "weighted avg       0.93      0.94      0.93      3708\n",
      "\n"
     ]
    }
   ],
   "source": [
    "print(classification_report(y_test, y_pred))"
   ]
  },
  {
   "cell_type": "markdown",
   "id": "fbc30a4b",
   "metadata": {},
   "source": [
    "### Confusion  matrix of RandomForest Classifier"
   ]
  },
  {
   "cell_type": "code",
   "execution_count": 28,
   "id": "95cbad1e",
   "metadata": {},
   "outputs": [
    {
     "data": {
      "image/png": "[encoded data removed]",
      "text/plain": [
       "<Figure size 640x480 with 2 Axes>"
      ]
     },
     "metadata": {},
     "output_type": "display_data"
    }
   ],
   "source": [
    "confmatrix = confusion_matrix(y_test, y_pred)\n",
    "cm = ConfusionMatrixDisplay(confmatrix, display_labels=[\"0\", \"1\"])\n",
    "cm.plot(cmap=\"YlGnBu_r\")\n",
    "plt.show()"
   ]
  },
  {
   "cell_type": "code",
   "execution_count": 29,
   "id": "112330ca",
   "metadata": {},
   "outputs": [
    {
     "name": "stdout",
     "output_type": "stream",
     "text": [
      "Confusion Matrix of our RandomForest Classifier [[2251  102]\n",
      " [ 139 1216]]\n",
      "sensitivity of our RandomForest Classifier  0.8974169741697416\n",
      "specificity of our RandomForest Classifier  0.956651083722907\n"
     ]
    }
   ],
   "source": [
    "print(\"Confusion Matrix of our RandomForest Classifier\", confmatrix)\n",
    "\n",
    "TP = confmatrix[1,1] # true positive\n",
    "TN = confmatrix[0,0] # true negatives\n",
    "FP = confmatrix[0,1] # false positives\n",
    "FN = confmatrix[1,0] # false negatives\n",
    "\n",
    "# Let's see the sensitivity of our RandomForest Classifier\n",
    "sensitivity = TP / float(TP+FN)\n",
    "print(\"sensitivity of our RandomForest Classifier \", sensitivity)\n",
    "\n",
    "# Let us calculate specificity of our RandomForest Classifier\n",
    "specificity = TN / float(TN+FP)\n",
    "print(\"specificity of our RandomForest Classifier \", specificity)"
   ]
  },
  {
   "cell_type": "markdown",
   "id": "a20210d7",
   "metadata": {},
   "source": [
    "## XGBoost Classifier "
   ]
  },
  {
   "cell_type": "code",
   "execution_count": 30,
   "id": "2c6e98cf",
   "metadata": {},
   "outputs": [
    {
     "name": "stdout",
     "output_type": "stream",
     "text": [
      "Accuracy of XGBClassifier on test set : 0.8500539374325782\n",
      "F1 Score of XGBClassifier on test set : 0.7535460992907801\n"
     ]
    }
   ],
   "source": [
    "# create XGBoost model instance\n",
    "xgb_clf = XGBClassifier(n_estimators=50, max_depth=5, learning_rate=0.01, alpha = 10,objective='binary:logistic')\n",
    "# fit XGBoost model\n",
    "xgb_clf.fit(X, y)\n",
    "# make predictions\n",
    "y_pred = xgb_clf.predict(X_test)\n",
    "print(f\"Accuracy of XGBClassifier on test set : {accuracy_score(y_pred, y_test)}\")\n",
    "print(f\"F1 Score of XGBClassifier on test set : {f1_score(y_pred, y_test)}\")"
   ]
  },
  {
   "cell_type": "code",
   "execution_count": 31,
   "id": "5d63459d",
   "metadata": {},
   "outputs": [
    {
     "name": "stdout",
     "output_type": "stream",
     "text": [
      "K-fold CV average score for RandomForestClassifier: 0.84\n"
     ]
    }
   ],
   "source": [
    "# K Fold cross validation \n",
    "kfold = KFold(n_splits=5, shuffle=True)\n",
    "kf_cv_scores = cross_val_score(xgb_clf, X_train, y_train, cv=kfold )\n",
    "print(\"K-fold CV average score for RandomForestClassifier: %.2f\" % kf_cv_scores.mean())"
   ]
  },
  {
   "cell_type": "markdown",
   "id": "c1f5d886",
   "metadata": {},
   "source": [
    "### Classification Report of XGBoost Classifier"
   ]
  },
  {
   "cell_type": "code",
   "execution_count": 32,
   "id": "a1a090ed",
   "metadata": {},
   "outputs": [
    {
     "name": "stdout",
     "output_type": "stream",
     "text": [
      "              precision    recall  f1-score   support\n",
      "\n",
      "           0       0.82      0.98      0.89      2353\n",
      "           1       0.94      0.63      0.75      1355\n",
      "\n",
      "    accuracy                           0.85      3708\n",
      "   macro avg       0.88      0.80      0.82      3708\n",
      "weighted avg       0.87      0.85      0.84      3708\n",
      "\n"
     ]
    }
   ],
   "source": [
    "print(classification_report(y_test, y_pred))"
   ]
  },
  {
   "cell_type": "markdown",
   "id": "4b3d07ba",
   "metadata": {},
   "source": [
    "### Confusion Matrix of XGBoost Classifier"
   ]
  },
  {
   "cell_type": "code",
   "execution_count": 33,
   "id": "df415df1",
   "metadata": {},
   "outputs": [
    {
     "data": {
      "image/png": "[encoded data removed]",
      "text/plain": [
       "<Figure size 640x480 with 2 Axes>"
      ]
     },
     "metadata": {},
     "output_type": "display_data"
    }
   ],
   "source": [
    "confmatrix = confusion_matrix(y_test, y_pred)\n",
    "cm = ConfusionMatrixDisplay(confmatrix, display_labels=[\"0\", \"1\"])\n",
    "cm.plot(cmap=\"YlGnBu_r\")\n",
    "plt.show()"
   ]
  },
  {
   "cell_type": "code",
   "execution_count": 34,
   "id": "8cb301e7",
   "metadata": {},
   "outputs": [
    {
     "name": "stdout",
     "output_type": "stream",
     "text": [
      "Confusion Matrix of our XGBoost Classifier [[2302   51]\n",
      " [ 505  850]]\n",
      "sensitivity of our XGBoost Classifier 0.6273062730627307\n",
      "specificity of our XGBoost Classifier 0.9783255418614535\n"
     ]
    }
   ],
   "source": [
    "print(\"Confusion Matrix of our XGBoost Classifier\", confmatrix)\n",
    "\n",
    "TP = confmatrix[1,1] # true positive\n",
    "TN = confmatrix[0,0] # true negatives\n",
    "FP = confmatrix[0,1] # false positives\n",
    "FN = confmatrix[1,0] # false negatives\n",
    "\n",
    "# Let's see the sensitivity of our XGBoost Classifier\n",
    "sensitivity = TP / float(TP+FN)\n",
    "print(\"sensitivity of our XGBoost Classifier\", sensitivity)\n",
    "\n",
    "# Let us calculate specificity of our XGBoost Classifier\n",
    "specificity = TN / float(TN+FP)\n",
    "print(\"specificity of our XGBoost Classifier\", specificity)"
   ]
  },
  {
   "cell_type": "markdown",
   "id": "b2ab9104",
   "metadata": {},
   "source": [
    "## ExtraTreesClassifier "
   ]
  },
  {
   "cell_type": "code",
   "execution_count": 1,
   "id": "ba0166b9",
   "metadata": {},
   "outputs": [
    {
     "ename": "NameError",
     "evalue": "name 'ExtraTreesClassifier' is not defined",
     "output_type": "error",
     "traceback": [
      "\u001b[1;31m---------------------------------------------------------------------------\u001b[0m",
      "\u001b[1;31mNameError\u001b[0m                                 Traceback (most recent call last)",
      "Cell \u001b[1;32mIn[1], line 2\u001b[0m\n\u001b[0;32m      1\u001b[0m \u001b[38;5;66;03m# create ExtraTreesClassifier model instance\u001b[39;00m\n\u001b[1;32m----> 2\u001b[0m xtree_clf \u001b[38;5;241m=\u001b[39m \u001b[43mExtraTreesClassifier\u001b[49m(n_estimators\u001b[38;5;241m=\u001b[39m\u001b[38;5;241m100\u001b[39m, random_state\u001b[38;5;241m=\u001b[39m\u001b[38;5;241m0\u001b[39m)\n\u001b[0;32m      3\u001b[0m \u001b[38;5;66;03m# fit ExtraTreesClassifier model\u001b[39;00m\n\u001b[0;32m      4\u001b[0m xtree_clf\u001b[38;5;241m.\u001b[39mfit(X, y)\n",
      "\u001b[1;31mNameError\u001b[0m: name 'ExtraTreesClassifier' is not defined"
     ]
    }
   ],
   "source": [
    "# create ExtraTreesClassifier model instance\n",
    "xtree_clf = ExtraTreesClassifier(n_estimators=100, random_state=0)\n",
    "# fit ExtraTreesClassifier model\n",
    "xtree_clf.fit(X, y)\n",
    "# make predictions\n",
    "y_pred = xtree_clf.predict(X_test)\n",
    "print(f\"Accuracy of ExtraTreesClassifier on test set : {accuracy_score(y_pred, y_test)}\")\n",
    "print(f\"F1 Score of ExtraTreesClassifier on test set : {f1_score(y_pred, y_test)}\")"
   ]
  },
  {
   "cell_type": "code",
   "execution_count": null,
   "id": "cc2b1476",
   "metadata": {},
   "outputs": [],
   "source": [
    "# K Fold cross validation \n",
    "kfold = KFold(n_splits=5, shuffle=True)\n",
    "kf_cv_scores = cross_val_score(xtree_clf, X, y, cv=kfold )\n",
    "print(\"K-fold CV average score for ExtraTreesClassifier: %.2f\" % kf_cv_scores.mean())"
   ]
  },
  {
   "cell_type": "markdown",
   "id": "cfa60e98",
   "metadata": {},
   "source": [
    "### Classification Report of ExtraTreesClassifier"
   ]
  },
  {
   "cell_type": "code",
   "execution_count": null,
   "id": "6376df5c",
   "metadata": {},
   "outputs": [],
   "source": [
    "print(classification_report(y_test, y_pred))"
   ]
  },
  {
   "cell_type": "markdown",
   "id": "8e450dd4",
   "metadata": {},
   "source": [
    "### Confusion Matrix of ExtraTreesClassifier"
   ]
  },
  {
   "cell_type": "code",
   "execution_count": null,
   "id": "190e7859",
   "metadata": {},
   "outputs": [],
   "source": [
    "confmatrix = confusion_matrix(y_test, y_pred)\n",
    "cm = ConfusionMatrixDisplay(confmatrix, display_labels=[\"0\", \"1\"])\n",
    "cm.plot(cmap=\"YlGnBu_r\")\n",
    "plt.show()"
   ]
  },
  {
   "cell_type": "code",
   "execution_count": null,
   "id": "654ac12c",
   "metadata": {},
   "outputs": [],
   "source": [
    "print(\"Confusion Matrix of our ExtraTreesClassifier\", confmatrix)\n",
    "\n",
    "TP = confmatrix[1,1] # true positive\n",
    "TN = confmatrix[0,0] # true negatives\n",
    "FP = confmatrix[0,1] # false positives\n",
    "FN = confmatrix[1,0] # false negatives\n",
    "\n",
    "# Let's see the sensitivity of our ExtraTreesClassifier\n",
    "sensitivity = TP / float(TP+FN)\n",
    "print(\"sensitivity of our ExtraTreesClassifier\", sensitivity)\n",
    "\n",
    "# Let us calculate specificity of our ExtraTreesClassifier\n",
    "specificity = TN / float(TN+FP)\n",
    "print(\"specificity of our ExtraTreesClassifier\", specificity)"
   ]
  },
  {
   "cell_type": "markdown",
   "id": "0fea958c",
   "metadata": {},
   "source": [
    "## TfidfVectorizer - Convert a collection of raw documents to a matrix of TF-IDF features. "
   ]
  },
  {
   "cell_type": "code",
   "execution_count": null,
   "id": "3c32b833",
   "metadata": {},
   "outputs": [],
   "source": [
    "# TfidfVectorizer - Convert a collection of raw documents to a matrix of TF-IDF features.# \n",
    "\n",
    "X = df['Sentence']\n",
    "y = df['Label']\n",
    "\n",
    "tfidf_vectorizer = TfidfVectorizer()\n",
    "X_tfidf = tfidf_vectorizer.fit_transform(X.values.astype('U')).toarray()\n",
    "X_tfidf"
   ]
  },
  {
   "cell_type": "code",
   "execution_count": null,
   "id": "6a76a834",
   "metadata": {},
   "outputs": [],
   "source": [
    "# feature names\n",
    "tfidf_vectorizer.get_feature_names()"
   ]
  },
  {
   "cell_type": "markdown",
   "id": "a58aec95",
   "metadata": {},
   "source": [
    "### Train Test Split "
   ]
  },
  {
   "cell_type": "code",
   "execution_count": null,
   "id": "940c63f6",
   "metadata": {},
   "outputs": [],
   "source": [
    "X_train_tfidf, X_test_tfidf, y_train_tfidf, y_test_tfidf = train_test_split(X_tfidf, y, test_size = 0.2)\n",
    "print(\"X_train_tfidf.shape=\", X_train_tfidf.shape)\n",
    "print(\"y_train_tfidf.shape=\", y_train_tfidf.shape)\n",
    "print(\"X_test_tfidf.shape=\", X_test_tfidf.shape)\n",
    "print(\"y_test_tfidf.shape=\", y_test_tfidf.shape)"
   ]
  },
  {
   "cell_type": "markdown",
   "id": "9fa0177a",
   "metadata": {},
   "source": [
    "##  Random Forest Classifier"
   ]
  },
  {
   "cell_type": "code",
   "execution_count": null,
   "id": "ee220bc8",
   "metadata": {},
   "outputs": [],
   "source": [
    "# create RandomForestClassifier model instance\n",
    "rf_clf_tfidf = RandomForestClassifier()\n",
    "# fit RandomForestClassifier model\n",
    "rf_clf_tfidf.fit(X_train_tfidf, y_train_tfidf)\n",
    "# make predictions\n",
    "y_pred_tfidf = rf_clf_tfidf.predict(X_test_tfidf)\n",
    "print(f\"Accuracy of Random Forest on test set : {accuracy_score(y_pred_tfidf, y_test_tfidf)}\")\n",
    "print(f\"F1 Score of Random Forest on test set : {f1_score(y_pred_tfidf, y_test_tfidf)}\")"
   ]
  },
  {
   "cell_type": "code",
   "execution_count": null,
   "id": "4b1015a3",
   "metadata": {},
   "outputs": [],
   "source": [
    "# K Fold cross validation \n",
    "kfold = KFold(n_splits=5, shuffle=True)\n",
    "kf_cv_scores = cross_val_score(rf_clf_tfidf, X_train_tfidf, y_train_tfidf, cv=kfold )\n",
    "print(\"K-fold CV average score for Random Forest Classifier: %.2f\" % kf_cv_scores.mean())"
   ]
  },
  {
   "cell_type": "markdown",
   "id": "b0ffd112",
   "metadata": {},
   "source": [
    "### Classification Report "
   ]
  },
  {
   "cell_type": "code",
   "execution_count": null,
   "id": "53079640",
   "metadata": {},
   "outputs": [],
   "source": [
    "print(classification_report(y_test_tfidf, y_pred_tfidf))"
   ]
  },
  {
   "cell_type": "markdown",
   "id": "bf949b77",
   "metadata": {},
   "source": [
    "### Confusion Matrix "
   ]
  },
  {
   "cell_type": "code",
   "execution_count": null,
   "id": "659b544c",
   "metadata": {},
   "outputs": [],
   "source": [
    "confmatrix = confusion_matrix(y_test_tfidf, y_pred_tfidf)\n",
    "cm = ConfusionMatrixDisplay(confmatrix, display_labels=[\"0\", \"1\"])\n",
    "cm.plot(cmap=\"YlGnBu_r\")\n",
    "plt.show()"
   ]
  },
  {
   "cell_type": "code",
   "execution_count": null,
   "id": "a28784cf",
   "metadata": {},
   "outputs": [],
   "source": [
    "print(\"Confusion Matrix of our RandomForest Classifier\", confmatrix)\n",
    "\n",
    "TP = confmatrix[1,1] # true positive\n",
    "TN = confmatrix[0,0] # true negatives\n",
    "FP = confmatrix[0,1] # false positives\n",
    "FN = confmatrix[1,0] # false negatives\n",
    "\n",
    "# Let's see the sensitivity of our RandomForest Classifier\n",
    "sensitivity = TP / float(TP+FN)\n",
    "print(\"sensitivity of our RandomForest Classifier \", sensitivity)\n",
    "\n",
    "# Let us calculate specificity of our RandomForest Classifier\n",
    "specificity = TN / float(TN+FP)\n",
    "print(\"specificity of our RandomForest Classifier \", specificity)"
   ]
  },
  {
   "cell_type": "code",
   "execution_count": null,
   "id": "13555c2c",
   "metadata": {},
   "outputs": [],
   "source": [
    "import joblib\n",
    "  \n",
    "  \n",
    "# Save the xgb_clf_tfidf model as a pickle in a file\n",
    "joblib.dump(rf_clf_tfidf, r'C:\\Users\\snehal\\PycharmProjects\\SQLInjectionMLProject\\models\\rf_clf_tfidf.pkl')"
   ]
  },
  {
   "cell_type": "markdown",
   "id": "b2afa5b2",
   "metadata": {},
   "source": [
    "## XGBoost Classifier "
   ]
  },
  {
   "cell_type": "code",
   "execution_count": null,
   "id": "32875c86",
   "metadata": {},
   "outputs": [],
   "source": [
    "# create XGBoost model instance\n",
    "xgb_clf_tfidf = XGBClassifier(n_estimators=50, max_depth=5, learning_rate=0.01, alpha = 10,objective='binary:logistic')\n",
    "# fit XGBoost model\n",
    "xgb_clf_tfidf.fit(X_train_tfidf, y_train_tfidf)\n",
    "# make predictions\n",
    "y_pred_tfidf = xgb_clf_tfidf.predict(X_test_tfidf)\n",
    "print(f\"Accuracy of XGBClassifier on test set : {accuracy_score(y_pred_tfidf, y_test_tfidf)}\")\n",
    "print(f\"F1 Score of XGBClassifier on test set : {f1_score(y_pred_tfidf, y_test_tfidf)}\")"
   ]
  },
  {
   "cell_type": "code",
   "execution_count": null,
   "id": "c7ec1323",
   "metadata": {},
   "outputs": [],
   "source": [
    "# K Fold cross validation \n",
    "kfold = KFold(n_splits=5, shuffle=True)\n",
    "kf_cv_scores = cross_val_score(xgb_clf_tfidf, X_train_tfidf, y_train_tfidf, cv=kfold )\n",
    "print(\"K-fold CV average score for XGBoost Classifier: %.2f\" % kf_cv_scores.mean())"
   ]
  },
  {
   "cell_type": "markdown",
   "id": "cf9f041f",
   "metadata": {},
   "source": [
    "### Classification Report "
   ]
  },
  {
   "cell_type": "code",
   "execution_count": null,
   "id": "2da9e410",
   "metadata": {},
   "outputs": [],
   "source": [
    "print(classification_report(y_test_tfidf, y_pred_tfidf))"
   ]
  },
  {
   "cell_type": "markdown",
   "id": "753439bf",
   "metadata": {},
   "source": [
    "### Confusion Matrix "
   ]
  },
  {
   "cell_type": "code",
   "execution_count": null,
   "id": "2e0cd1ce",
   "metadata": {},
   "outputs": [],
   "source": [
    "confmatrix = confusion_matrix(y_test_tfidf, y_pred_tfidf)\n",
    "cm = ConfusionMatrixDisplay(confmatrix, display_labels=[\"0\", \"1\"])\n",
    "cm.plot(cmap=\"YlGnBu_r\")\n",
    "plt.show()"
   ]
  },
  {
   "cell_type": "code",
   "execution_count": null,
   "id": "591bdd42",
   "metadata": {},
   "outputs": [],
   "source": [
    "print(\"Confusion Matrix of our XGBoost Classifier\", confmatrix)\n",
    "\n",
    "TP = confmatrix[1,1] # true positive\n",
    "TN = confmatrix[0,0] # true negatives\n",
    "FP = confmatrix[0,1] # false positives\n",
    "FN = confmatrix[1,0] # false negatives\n",
    "\n",
    "# Let's see the sensitivity of our XGBoost Classifier\n",
    "sensitivity = TP / float(TP+FN)\n",
    "print(\"sensitivity of our XGBoost Classifier\", sensitivity)\n",
    "\n",
    "# Let us calculate specificity of our XGBoost Classifier\n",
    "specificity = TN / float(TN+FP)\n",
    "print(\"specificity of our XGBoost Classifier\", specificity)"
   ]
  },
  {
   "cell_type": "code",
   "execution_count": null,
   "id": "a6f954dd",
   "metadata": {},
   "outputs": [],
   "source": [
    "import joblib\n",
    "  \n",
    "  \n",
    "# Save the xgb_clf_tfidf model as a pickle in a file\n",
    "joblib.dump(xgb_clf_tfidf, r'C:\\Users\\snehal\\PycharmProjects\\SQLInjectionMLProject\\models\\xgb_clf_tfidf.pkl')"
   ]
  },
  {
   "cell_type": "markdown",
   "id": "5bf36394",
   "metadata": {},
   "source": [
    "## Extratree Classifier "
   ]
  },
  {
   "cell_type": "code",
   "execution_count": null,
   "id": "15925a7c",
   "metadata": {},
   "outputs": [],
   "source": [
    "# create ExtraTreesClassifier model instance\n",
    "xtree_clf_tfidf = ExtraTreesClassifier(n_estimators=100, random_state=0)\n",
    "# fit ExtraTreesClassifier model\n",
    "xtree_clf_tfidf.fit(X_train_tfidf, y_train_tfidf)\n",
    "# make predictions\n",
    "y_pred_tfidf = xtree_clf_tfidf.predict(X_test_tfidf)\n",
    "print(f\"Accuracy of ExtraTreesClassifier on test set : {accuracy_score(y_pred_tfidf, y_test_tfidf)}\")\n",
    "print(f\"F1 Score of ExtraTreesClassifier on test set : {f1_score(y_pred_tfidf, y_test_tfidf)}\")"
   ]
  },
  {
   "cell_type": "code",
   "execution_count": null,
   "id": "119ba062",
   "metadata": {},
   "outputs": [],
   "source": [
    "# K Fold cross validation \n",
    "kfold = KFold(n_splits=5, shuffle=True)\n",
    "kf_cv_scores = cross_val_score(xtree_clf_tfidf, X_train_tfidf, y_train_tfidf, cv=kfold )\n",
    "print(\"K-fold CV average score for Extratree Classifier: %.2f\" % kf_cv_scores.mean())"
   ]
  },
  {
   "cell_type": "markdown",
   "id": "56821209",
   "metadata": {},
   "source": [
    "### Classification Report "
   ]
  },
  {
   "cell_type": "code",
   "execution_count": null,
   "id": "b33603ef",
   "metadata": {},
   "outputs": [],
   "source": [
    "print(classification_report(y_test_tfidf, y_pred_tfidf))"
   ]
  },
  {
   "cell_type": "markdown",
   "id": "d49b6052",
   "metadata": {},
   "source": [
    "### Confusion Matrix "
   ]
  },
  {
   "cell_type": "code",
   "execution_count": null,
   "id": "97a6e843",
   "metadata": {},
   "outputs": [],
   "source": [
    "confmatrix = confusion_matrix(y_test_tfidf, y_pred_tfidf)\n",
    "cm = ConfusionMatrixDisplay(confmatrix, display_labels=[\"0\", \"1\"])\n",
    "cm.plot(cmap=\"YlGnBu_r\")\n",
    "plt.show()"
   ]
  },
  {
   "cell_type": "code",
   "execution_count": null,
   "id": "cf17fe07",
   "metadata": {},
   "outputs": [],
   "source": [
    "print(\"Confusion Matrix of our Extratree Classifier\", confmatrix)\n",
    "\n",
    "TP = confmatrix[1,1] # true positive\n",
    "TN = confmatrix[0,0] # true negatives\n",
    "FP = confmatrix[0,1] # false positives\n",
    "FN = confmatrix[1,0] # false negatives\n",
    "\n",
    "# Let's see the sensitivity of our Extratree Classifier\n",
    "sensitivity = TP / float(TP+FN)\n",
    "print(\"sensitivity of our Extratree Classifier\", sensitivity)\n",
    "\n",
    "# Let us calculate specificity of our Extratree Classifier\n",
    "specificity = TN / float(TN+FP)\n",
    "print(\"specificity of our Extratree Classifier\", specificity)"
   ]
  },
  {
   "cell_type": "markdown",
   "id": "0b8d5127",
   "metadata": {},
   "source": [
    "### Saving the Extratree model "
   ]
  },
  {
   "cell_type": "code",
   "execution_count": null,
   "id": "acaf95bf",
   "metadata": {},
   "outputs": [],
   "source": [
    "import joblib\n",
    "  \n",
    "  \n",
    "# Save the model as a pickle in a file\n",
    "joblib.dump(xtree_clf_tfidf, r'C:\\Users\\snehal\\PycharmProjects\\SQLInjectionMLProject\\models\\xtree_clf_tfidf.pkl')\n",
    "  \n",
    "# # Load the model from the file\n",
    "# xtree_clf_from_joblib = joblib.load('/models/xtree_clf.pkl')\n",
    "  \n",
    "# # Use the loaded model to make predictions\n",
    "# xtree_clf_from_joblib.predict(X_test)"
   ]
  },
  {
   "cell_type": "markdown",
   "id": "d912fd81",
   "metadata": {},
   "source": [
    "### Testing of Extratree Classifier model on unknown data"
   ]
  },
  {
   "cell_type": "code",
   "execution_count": null,
   "id": "271a9ed5",
   "metadata": {},
   "outputs": [],
   "source": [
    "text=input(\" Enter your text for prediction \")"
   ]
  },
  {
   "cell_type": "code",
   "execution_count": null,
   "id": "8081a387",
   "metadata": {},
   "outputs": [],
   "source": [
    "# print('Vectorized Input:')\n",
    "v0 = tfidf_vectorizer.transform([text]).toarray()\n",
    "# print(v0)\n",
    "pred = xtree_clf_tfidf.predict(v0)\n",
    "#print(\"Predicted Output = \",pred)\n",
    "if pred[0]==0:\n",
    "    print(\"It seems to be safe input\")\n",
    "else:\n",
    "    print(\"ALERT :::: This can be SQL injection\")"
   ]
  },
  {
   "cell_type": "markdown",
   "id": "bc7fcf10",
   "metadata": {},
   "source": [
    "### Inverse transform "
   ]
  },
  {
   "cell_type": "code",
   "execution_count": null,
   "id": "28a65640",
   "metadata": {},
   "outputs": [],
   "source": [
    "print('To the source:')\n",
    "print(tfidf_vectorizer.inverse_transform(v0))"
   ]
  },
  {
   "cell_type": "code",
   "execution_count": null,
   "id": "7acab34a",
   "metadata": {},
   "outputs": [],
   "source": []
  },
  {
   "cell_type": "code",
   "execution_count": null,
   "id": "189c0f09",
   "metadata": {},
   "outputs": [],
   "source": []
  }
 ],
 "metadata": {
  "kernelspec": {
   "display_name": "Python 3 (ipykernel)",
   "language": "python",
   "name": "python3"
  },
  "language_info": {
   "codemirror_mode": {
    "name": "ipython",
    "version": 3
   },
   "file_extension": ".py",
   "mimetype": "text/x-python",
   "name": "python",
   "nbconvert_exporter": "python",
   "pygments_lexer": "ipython3",
   "version": "3.8.16"
  }
 },
 "nbformat": 4,
 "nbformat_minor": 5
}
